{
  "nbformat": 4,
  "nbformat_minor": 0,
  "metadata": {
    "colab": {
      "provenance": [],
      "authorship_tag": "ABX9TyNvrUxKlNR5d/KCso7npPt4",
      "include_colab_link": true
    },
    "kernelspec": {
      "name": "ir",
      "display_name": "R"
    },
    "language_info": {
      "name": "R"
    }
  },
  "cells": [
    {
      "cell_type": "markdown",
      "metadata": {
        "id": "view-in-github",
        "colab_type": "text"
      },
      "source": [
        "<a href=\"https://colab.research.google.com/github/Gabrieldiasdeoliveira/Processos-Estocasticos/blob/main/APS_PROCESSOS_ESTOCASTICOS.ipynb\" target=\"_parent\"><img src=\"https://colab.research.google.com/assets/colab-badge.svg\" alt=\"Open In Colab\"/></a>"
      ]
    },
    {
      "cell_type": "markdown",
      "source": [
        "1 - O Departamento de Estatística é formado por 35 professores, sendo 21 homens e 14\n",
        "mulheres. Uma comissão de 3 professores será constituída sorteando, ao acaso, três\n",
        "membros do departamento. Qual é a probabilidade de a comissão ser formada por pelo\n",
        "menos duas mulheres?\n",
        "\n",
        "\n"
      ],
      "metadata": {
        "id": "LcNENbsBz59k"
      }
    },
    {
      "cell_type": "code",
      "source": [
        "# Número total de professores e número de mulheres\n",
        "total_professores <- 35\n",
        "mulheres <- 14\n",
        "\n",
        "# Número de combinações possíveis para selecionar 3 membros\n",
        "total_combinacoes <- choose(total_professores, 3)\n",
        "\n",
        "# Número de combinações com pelo menos duas mulheres\n",
        "combinacoes_mulheres <- choose(mulheres, 2) * choose(total_professores - mulheres, 1) +\n",
        "                       choose(mulheres, 3)\n",
        "\n",
        "# Probabilidade de formar uma comissão com pelo menos duas mulheres\n",
        "probabilidade <- combinacoes_mulheres / total_combinacoes\n",
        "\n",
        "# Imprimir o resultado\n",
        "cat(\"A probabilidade de formar uma comissão com pelo menos duas mulheres é:\", probabilidade)"
      ],
      "metadata": {
        "colab": {
          "base_uri": "https://localhost:8080/"
        },
        "id": "aP_kG6B10BQs",
        "outputId": "06f48a64-bdfd-4947-8e6c-564b86098690"
      },
      "execution_count": 1,
      "outputs": [
        {
          "output_type": "stream",
          "name": "stdout",
          "text": [
            "A probabilidade de formar uma comissão com pelo menos duas mulheres é: 0.3475936"
          ]
        }
      ]
    },
    {
      "cell_type": "markdown",
      "source": [
        "2 - Num determinado processo de fabricação, 15% das peças são consideradas defeituosas.\n",
        "As peças são acondicionadas em caixas com 5 unidades cada uma. Determine"
      ],
      "metadata": {
        "id": "Tf-Wq03G0UO1"
      }
    },
    {
      "cell_type": "markdown",
      "source": [
        "a) A probabilidade de haver exatamente 3 peças defeituosas numa caixa?"
      ],
      "metadata": {
        "id": "ApfFdzLL0jLY"
      }
    },
    {
      "cell_type": "code",
      "source": [
        "# Número de peças na caixa\n",
        "n <- 5\n",
        "\n",
        "# Probabilidade de uma peça ser defeituosa\n",
        "p <- 0.15\n",
        "\n",
        "# Número de peças defeituosas desejadas\n",
        "k <- 3\n",
        "\n",
        "# Calcular a probabilidade usando a distribuição binomial\n",
        "probabilidade <- choose(n, k) * p^k * (1 - p)^(n - k)\n",
        "\n",
        "# Imprimir o resultado\n",
        "cat(\"A probabilidade de haver exatamente 3 peças defeituosas em uma caixa é:\", probabilidade)\n",
        "\n"
      ],
      "metadata": {
        "colab": {
          "base_uri": "https://localhost:8080/"
        },
        "id": "EviCh2Xd2REh",
        "outputId": "8631b01a-f06f-476c-d1d0-a9efcd29937b"
      },
      "execution_count": 3,
      "outputs": [
        {
          "output_type": "stream",
          "name": "stdout",
          "text": [
            "A probabilidade de haver exatamente 3 peças defeituosas em uma caixa é: 0.02438437"
          ]
        }
      ]
    },
    {
      "cell_type": "markdown",
      "source": [
        "b) Se a empresa paga uma multa de R$ 10 por caixa em que houver alguma peça\n",
        "defeituosa, qual o valor esperado da multa num total de 1000 caixas?"
      ],
      "metadata": {
        "id": "ZneEa9xM2tOo"
      }
    },
    {
      "cell_type": "code",
      "source": [
        "# Número de peças na caixa\n",
        "n <- 5\n",
        "\n",
        "# Probabilidade de uma peça ser defeituosa\n",
        "p <- 0.15\n",
        "\n",
        "# Valor da multa por caixa com peça defeituosa\n",
        "valor_multa <- 10\n",
        "\n",
        "# Número total de caixas\n",
        "total_caixas <- 1000\n",
        "\n",
        "# Inicializar o valor esperado da multa\n",
        "valor_esperado_multa <- 0\n",
        "\n",
        "# Calcular a probabilidade de uma caixa ter pelo menos uma peça defeituosa\n",
        "for (k in 1:n) {\n",
        "  probabilidade <- sum(dbinom(k:n, n, p))\n",
        "  valor_esperado_multa <- valor_esperado_multa + probabilidade * valor_multa\n",
        "}\n",
        "\n",
        "# Calcular o valor esperado da multa para o total de caixas\n",
        "valor_esperado_multa_total <- valor_esperado_multa * total_caixas\n",
        "\n",
        "# Imprimir o resultado\n",
        "cat(\"O valor esperado da multa em um total de 1000 caixas é:\", valor_esperado_multa_total)\n"
      ],
      "metadata": {
        "colab": {
          "base_uri": "https://localhost:8080/"
        },
        "id": "FiaBIjKD28Vu",
        "outputId": "59219711-3265-490c-e005-9724f288f63f"
      },
      "execution_count": 4,
      "outputs": [
        {
          "output_type": "stream",
          "name": "stdout",
          "text": [
            "O valor esperado da multa em um total de 1000 caixas é: 7500"
          ]
        }
      ]
    },
    {
      "cell_type": "markdown",
      "source": [
        "3) Uma remessa de 800 estabilizadores de tensão é recebida pelo controle de qualidade de\n",
        "uma empresa. São inspecionados 20 aparelhos da remessa, que será aceita se ocorrer\n",
        "no máximo um defeituoso. Há 80 defeituosos no lote. Qual a probabilidade de o lote ser\n",
        "aceito?"
      ],
      "metadata": {
        "id": "ygScblE54Bt3"
      }
    },
    {
      "cell_type": "code",
      "source": [
        "# Número total de aparelhos na remessa\n",
        "total_aparelhos <- 800\n",
        "\n",
        "# Número de aparelhos inspecionados\n",
        "inspecionados <- 20\n",
        "\n",
        "# Número de aparelhos defeituosos na remessa\n",
        "defeituosos <- 80\n",
        "\n",
        "# Calcular a probabilidade de ocorrer no máximo um defeituoso nos 20 inspecionados\n",
        "probabilidade_aceite <- sum(dbinom(0:1, inspecionados, defeituosos/total_aparelhos))\n",
        "\n",
        "# Imprimir o resultado\n",
        "cat(\"A probabilidade de o lote ser aceito é:\", probabilidade_aceite)\n"
      ],
      "metadata": {
        "colab": {
          "base_uri": "https://localhost:8080/"
        },
        "id": "88k1mtWm4C1s",
        "outputId": "41a8a505-fc73-4915-fb1b-9a31385b993c"
      },
      "execution_count": 6,
      "outputs": [
        {
          "output_type": "stream",
          "name": "stdout",
          "text": [
            "A probabilidade de o lote ser aceito é: 0.391747"
          ]
        }
      ]
    },
    {
      "cell_type": "markdown",
      "source": [
        "4) 25% dos universitários de São Paulo praticam esporte. Escolhendo-se ao acaso 15 desses\n",
        "estudantes, determine a probabilidade de:"
      ],
      "metadata": {
        "id": "XoCn-vX15Kl7"
      }
    },
    {
      "cell_type": "code",
      "source": [
        "# Probabilidade de um universitário ser esportista\n",
        "p <- 0.25\n",
        "\n",
        "# Número de estudantes selecionados\n",
        "n <- 15\n",
        "\n",
        "# Calcular a probabilidade de pelo menos 2 estudantes serem esportistas\n",
        "probabilidade_pelo_menos_2 <- sum(dbinom(2:n, n, p))\n",
        "\n",
        "# Imprimir o resultado\n",
        "cat(\"A probabilidade de pelo menos 2 estudantes serem esportistas é:\", probabilidade_pelo_menos_2)\n"
      ],
      "metadata": {
        "colab": {
          "base_uri": "https://localhost:8080/"
        },
        "id": "IsZTPCXF5LNe",
        "outputId": "d8e00895-0dcc-43c3-ad31-bd5d99b4d574"
      },
      "execution_count": 42,
      "outputs": [
        {
          "output_type": "stream",
          "name": "stdout",
          "text": [
            "A probabilidade de pelo menos 2 estudantes serem esportistas é: 0.9198192"
          ]
        }
      ]
    },
    {
      "cell_type": "markdown",
      "source": [
        "b) No mínimo 12 deles não serem esportistas"
      ],
      "metadata": {
        "id": "XaJ4OFe05WMA"
      }
    },
    {
      "cell_type": "code",
      "source": [
        "# Probabilidade de um universitário ser esportista\n",
        "p <- 0.75\n",
        "\n",
        "# Número de estudantes selecionados\n",
        "n <- 15\n",
        "\n",
        "# Calcular a probabilidade de no máximo 3 estudantes serem esportistas\n",
        "probabilidade_no_minimo_12 <- sum(dbinom(0:3, n, p))\n",
        "\n",
        "# Imprimir o resultado\n",
        "cat(\"A probabilidade de no mínimo 12 estudantes não serem esportistas é:\", 1 - probabilidade_no_minimo_12)\n"
      ],
      "metadata": {
        "colab": {
          "base_uri": "https://localhost:8080/"
        },
        "id": "GS_SI4JDDJs9",
        "outputId": "72fc5833-51e5-4632-c049-46a8d09e9d4e"
      },
      "execution_count": 43,
      "outputs": [
        {
          "output_type": "stream",
          "name": "stdout",
          "text": [
            "A probabilidade de no mínimo 12 estudantes não serem esportistas é: 0.9999876"
          ]
        }
      ]
    },
    {
      "cell_type": "markdown",
      "source": [
        "5) Uma indústria de tintas recebe pedidos de seus vendedores através de fax, telefone e\n",
        "internet. A taxa média é de 5 pedidos por hora. a) Qual a probabilidade da indústria\n",
        "receber mais de dois pedidos por hora? Digamos que, no horário do almoço, a indústria\n",
        "fica impossibilitada de atender a mais de dois pedidos por hora. Você acha que deveria\n",
        "aumentar o nº de atendentes nesse período?"
      ],
      "metadata": {
        "id": "O44TzCt0Dol7"
      }
    },
    {
      "cell_type": "code",
      "source": [
        "# Taxa média de pedidos por hora\n",
        "lambda <- 5\n",
        "\n",
        "# Número mínimo de pedidos para calcular a probabilidade\n",
        "min_pedidos <- 3\n",
        "\n",
        "# Calcular a probabilidade de receber mais de dois pedidos por hora\n",
        "probabilidade_mais_de_dois_pedidos <- 1 - ppois(min_pedidos - 1, lambda)\n",
        "\n",
        "# Imprimir o resultado\n",
        "cat(\"A probabilidade de a indústria receber mais de dois pedidos por hora é:\", probabilidade_mais_de_dois_pedidos)\n"
      ],
      "metadata": {
        "colab": {
          "base_uri": "https://localhost:8080/"
        },
        "id": "DMOgwi46EJx6",
        "outputId": "86806d75-76be-4a6a-b370-6e84a59b0e3f"
      },
      "execution_count": 44,
      "outputs": [
        {
          "output_type": "stream",
          "name": "stdout",
          "text": [
            "A probabilidade de a indústria receber mais de dois pedidos por hora é: 0.875348"
          ]
        }
      ]
    },
    {
      "cell_type": "code",
      "source": [],
      "metadata": {
        "id": "D5ZqOnaKG8Oa"
      },
      "execution_count": null,
      "outputs": []
    }
  ]
}